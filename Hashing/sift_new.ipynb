{
 "cells": [
  {
   "cell_type": "code",
   "execution_count": 36,
   "metadata": {},
   "outputs": [],
   "source": [
    "import os\n",
    "import cv2 as cv\n",
    "import shutil"
   ]
  },
  {
   "cell_type": "code",
   "execution_count": 37,
   "metadata": {},
   "outputs": [],
   "source": [
    "FEATURES_DISTANCE = 0.3\n",
    "MIN_MATCHES = 50\n",
    "def collect_imgs(directory):\n",
    "\timgs = []\n",
    "\tfor file in os.listdir(directory):\n",
    "\t\tif(file.lower().endswith(('.png', '.jpg', '.jpeg', '.tiff', '.bmp', '.gif'))):\n",
    "\t\t\tpath = os.path.join(directory, file)\n",
    "\t\t\timgs.append({\n",
    "\t\t\t\t'f': cv.imread(path, cv.IMREAD_GRAYSCALE),\n",
    "\t\t\t\t'p': path\n",
    "\t\t\t});\n",
    "\treturn imgs"
   ]
  },
  {
   "cell_type": "code",
   "execution_count": 38,
   "metadata": {},
   "outputs": [],
   "source": [
    "def detect_features(imgs):\n",
    "\tsift = cv.SIFT_create()\n",
    "\tfor img in imgs:\n",
    "\t\timg['kp'], img['des'] = sift.detectAndCompute(img['f'], None)\n",
    "\treturn imgs"
   ]
  },
  {
   "cell_type": "code",
   "execution_count": 39,
   "metadata": {},
   "outputs": [],
   "source": [
    "def similarity_check(imgs):\n",
    "\tduplicates = []\n",
    "\tfor i1 in range(len(imgs)):\n",
    "\t\tfor i2 in range(i1 + 1, len(imgs)):\n",
    "\t\t\tFLANN_INDEX_KDTREE = 1\n",
    "\t\t\tindex_params = dict(\n",
    "\t\t\t\talgorithm = FLANN_INDEX_KDTREE,\n",
    "\t\t\t\ttrees = 5\n",
    "\t\t\t)\n",
    "\t\t\tsearch_params = dict(checks=50)\n",
    "\t\t\tflann = cv.FlannBasedMatcher(index_params, search_params)\n",
    "\t\t\tmatches = flann.knnMatch(imgs[i1]['des'], imgs[i2]['des'], k=2)\n",
    "\t\t\tmatchesCount = 0\n",
    "\t\t\tfor i,(m,n) in enumerate(matches):\n",
    "\t\t\t\tif m.distance < FEATURES_DISTANCE * n.distance:\n",
    "\t\t\t\t\tmatchesCount += 1\n",
    "\t\t\tif(matchesCount > MIN_MATCHES):\n",
    "\t\t\t\tprint('[DUPLICATE FOUND]', imgs[i1]['p'], imgs[i2]['p'])\n",
    "\t\t\t\t# adds the lower resolution image to the deletion list\n",
    "\t\t\t\th1, w1 = imgs[i1]['f'].shape[:2]\n",
    "\t\t\t\th2, w2 = imgs[i2]['f'].shape[:2]\n",
    "\t\t\t\tduplicates.append(imgs[i2 if h1*w1 > h2*w2 else i1]['p'])\n",
    "\treturn duplicates"
   ]
  },
  {
   "cell_type": "code",
   "execution_count": 40,
   "metadata": {},
   "outputs": [],
   "source": [
    "def copy_duplicates(duplicates, destination_folder):\n",
    "\tos.makedirs(destination_folder, exist_ok=True)\n",
    "\tfor path in duplicates:\n",
    "\t\tfilename = os.path.basename(path)\n",
    "\t\tdestination_path = os.path.join(destination_folder, filename)\n",
    "\t\tshutil.copy2(path, destination_path)\n",
    "\t\tprint('[COPIED]', path, 'to', destination_path)"
   ]
  },
  {
   "cell_type": "code",
   "execution_count": 41,
   "metadata": {},
   "outputs": [],
   "source": [
    "def delete(duplicates):\n",
    "\n",
    "\tfor path in duplicates:\n",
    "\t\tos.remove(path)\n",
    "\t\tprint('[DELETED]', path)"
   ]
  },
  {
   "cell_type": "code",
   "execution_count": 42,
   "metadata": {},
   "outputs": [
    {
     "name": "stdout",
     "output_type": "stream",
     "text": [
      "[DUPLICATE FOUND] ../My_Image/IMG_2239.png ../My_Image/IMG_223.png\n",
      "[DUPLICATE FOUND] ../My_Image/686.jpg ../My_Image/687.jpg\n",
      "[DUPLICATE FOUND] ../My_Image/682.jpg ../My_Image/681.jpg\n",
      "[COPIED] ../My_Image/IMG_2239.png to ../duplicates/IMG_2239.png\n",
      "[COPIED] ../My_Image/686.jpg to ../duplicates/686.jpg\n",
      "[COPIED] ../My_Image/682.jpg to ../duplicates/682.jpg\n"
     ]
    }
   ],
   "source": [
    "def main():\n",
    "\tdirectory = \"../My_Image\"\n",
    "\tdestination_folder = \"../duplicates\"\n",
    "\timgs = collect_imgs(directory)\n",
    "\timgs = detect_features(imgs)\n",
    "\tduplicates = similarity_check(imgs)\n",
    "\tcopy_duplicates(duplicates, destination_folder)\n",
    "if __name__ == \"__main__\":\n",
    "\tmain()"
   ]
  }
 ],
 "metadata": {
  "kernelspec": {
   "display_name": "Python 3",
   "language": "python",
   "name": "python3"
  },
  "language_info": {
   "codemirror_mode": {
    "name": "ipython",
    "version": 3
   },
   "file_extension": ".py",
   "mimetype": "text/x-python",
   "name": "python",
   "nbconvert_exporter": "python",
   "pygments_lexer": "ipython3",
   "version": "3.11.4"
  }
 },
 "nbformat": 4,
 "nbformat_minor": 2
}
