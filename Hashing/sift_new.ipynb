{
 "cells": [
  {
   "cell_type": "code",
   "execution_count": 98,
   "metadata": {},
   "outputs": [],
   "source": [
    "import os\n",
    "import cv2 as cv\n",
    "import glob\n",
    "from PIL import Image\n",
    "import shutil\n",
    "import numpy as np"
   ]
  },
  {
   "cell_type": "code",
   "execution_count": 99,
   "metadata": {},
   "outputs": [],
   "source": [
    "FEATURES_DISTANCE = 0.3\n",
    "MIN_MATCHES = 50\n",
    "SCALE_PERCENT = 60\n",
    "\n",
    "directory = \"../My_Image\"\n",
    "destination_folder = \"../duplicates\""
   ]
  },
  {
   "cell_type": "code",
   "execution_count": 100,
   "metadata": {},
   "outputs": [],
   "source": [
    "def collect_imgs(directory):\n",
    "    img_paths = glob.glob(os.path.join(directory, '*'))\n",
    "    img_paths = [path for path in img_paths if path.lower().endswith(('.png', '.jpg', '.jpeg', '.tiff', '.bmp', '.gif'))]\n",
    "    return img_paths"
   ]
  },
  {
   "cell_type": "code",
   "execution_count": 101,
   "metadata": {},
   "outputs": [],
   "source": [
    "def load_and_resize_image(path):\n",
    "    img = Image.open(path)\n",
    "    width, height = img.size\n",
    "    img = img.resize((int(width * SCALE_PERCENT / 100), int(height * SCALE_PERCENT / 100)))\n",
    "    img = cv.cvtColor(np.array(img), cv.COLOR_RGB2GRAY)\n",
    "    return img"
   ]
  },
  {
   "cell_type": "code",
   "execution_count": 102,
   "metadata": {},
   "outputs": [],
   "source": [
    "def detect_features(img_paths):\n",
    "    sift = cv.SIFT_create()\n",
    "    imgs = []\n",
    "    for path in img_paths:\n",
    "        img = load_and_resize_image(path)\n",
    "        kp, des = sift.detectAndCompute(img, None)\n",
    "        imgs.append({\n",
    "            'f': img,\n",
    "            'p': path,\n",
    "            'kp': kp,\n",
    "            'des': des\n",
    "        })\n",
    "    return imgs"
   ]
  },
  {
   "cell_type": "code",
   "execution_count": 103,
   "metadata": {},
   "outputs": [],
   "source": [
    "def similarity_check(imgs):\n",
    "    duplicates = set()\n",
    "    for i1 in range(len(imgs)):\n",
    "        for i2 in range(i1 + 1, len(imgs)):\n",
    "            FLANN_INDEX_KDTREE = 1\n",
    "            index_params = dict(\n",
    "                algorithm = FLANN_INDEX_KDTREE,\n",
    "                trees = 5\n",
    "            )\n",
    "            search_params = dict(checks=50)\n",
    "            flann = cv.FlannBasedMatcher(index_params, search_params)\n",
    "            matches = flann.knnMatch(imgs[i1]['des'], imgs[i2]['des'], k=2)\n",
    "            matchesCount = 0\n",
    "            for i,(m,n) in enumerate(matches):\n",
    "                if m.distance < FEATURES_DISTANCE * n.distance:\n",
    "                    matchesCount += 1\n",
    "            if(matchesCount > MIN_MATCHES):\n",
    "                print('[DUPLICATE FOUND]', imgs[i1]['p'], imgs[i2]['p'])\n",
    "                # adds the lower resolution image to the deletion list\n",
    "                h1, w1 = imgs[i1]['f'].shape[:2]\n",
    "                h2, w2 = imgs[i2]['f'].shape[:2]\n",
    "                duplicates.add(imgs[i2 if h1*w1 > h2*w2 else i1]['p'])  # Use add instead of append\n",
    "    return duplicates\n"
   ]
  },
  {
   "cell_type": "code",
   "execution_count": 104,
   "metadata": {},
   "outputs": [],
   "source": [
    "def copy_duplicates(duplicates, destination_folder):\n",
    "\tos.makedirs(destination_folder, exist_ok=True)\n",
    "\tfor path in duplicates:\n",
    "\t\tfilename = os.path.basename(path)\n",
    "\t\tdestination_path = os.path.join(destination_folder, filename)\n",
    "\t\tshutil.copy2(path, destination_path)\n",
    "\t\tprint('[COPIED]', path, 'to', destination_path)"
   ]
  },
  {
   "cell_type": "code",
   "execution_count": 105,
   "metadata": {},
   "outputs": [],
   "source": [
    "def delete(duplicates):\n",
    "\tfor path in duplicates:\n",
    "\t\tos.remove(path)\n",
    "\t\tprint('[DELETED]', path)"
   ]
  },
  {
   "cell_type": "code",
   "execution_count": 106,
   "metadata": {},
   "outputs": [],
   "source": [
    "def main():\n",
    "    img_paths = collect_imgs(directory)\n",
    "    imgs = detect_features(img_paths)\n",
    "    duplicates = similarity_check(imgs)\n",
    "    copy_duplicates(duplicates, destination_folder)"
   ]
  },
  {
   "cell_type": "code",
   "execution_count": 107,
   "metadata": {},
   "outputs": [
    {
     "name": "stdout",
     "output_type": "stream",
     "text": [
      "[DUPLICATE FOUND] ../My_Image/687 copy.jpg ../My_Image/686.jpg\n",
      "[DUPLICATE FOUND] ../My_Image/687 copy.jpg ../My_Image/687.jpg\n",
      "[DUPLICATE FOUND] ../My_Image/IMG_2239.png ../My_Image/IMG_223.png\n",
      "[DUPLICATE FOUND] ../My_Image/686.jpg ../My_Image/687.jpg\n",
      "[DUPLICATE FOUND] ../My_Image/682.jpg ../My_Image/681.jpg\n",
      "[COPIED] ../My_Image/687 copy.jpg to ../duplicates/687 copy.jpg\n",
      "[COPIED] ../My_Image/682.jpg to ../duplicates/682.jpg\n",
      "[COPIED] ../My_Image/IMG_2239.png to ../duplicates/IMG_2239.png\n",
      "[COPIED] ../My_Image/686.jpg to ../duplicates/686.jpg\n"
     ]
    }
   ],
   "source": [
    "if __name__ == \"__main__\":\n",
    "    main()"
   ]
  }
 ],
 "metadata": {
  "kernelspec": {
   "display_name": "Python 3",
   "language": "python",
   "name": "python3"
  },
  "language_info": {
   "codemirror_mode": {
    "name": "ipython",
    "version": 3
   },
   "file_extension": ".py",
   "mimetype": "text/x-python",
   "name": "python",
   "nbconvert_exporter": "python",
   "pygments_lexer": "ipython3",
   "version": "3.11.4"
  }
 },
 "nbformat": 4,
 "nbformat_minor": 2
}
