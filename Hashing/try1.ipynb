{
 "cells": [
  {
   "cell_type": "code",
   "execution_count": 40,
   "metadata": {},
   "outputs": [],
   "source": [
    "import os\n",
    "import shutil\n",
    "from PIL import Image\n",
    "from imagehash import phash"
   ]
  },
  {
   "cell_type": "code",
   "execution_count": 41,
   "metadata": {},
   "outputs": [],
   "source": [
    "def find_duplicates(main_folder, dup_folder):\n",
    "    hash_dict = {}\n",
    "    image_files = [os.path.join(dp, f) for dp, dn, filenames in os.walk(main_folder) for f in filenames if f.endswith(('.jpg', '.png', '.gif'))]\n",
    "    for image_file in image_files:\n",
    "        with Image.open(image_file) as img:\n",
    "            image_hash = phash(img)\n",
    "        if image_hash not in hash_dict:\n",
    "            hash_dict[image_hash] = image_file\n",
    "        else:\n",
    "            print(f\"Duplicate found: {image_file} and {hash_dict[image_hash]}\")\n",
    "            if not os.path.exists(dup_folder):\n",
    "                os.makedirs(dup_folder)\n",
    "            shutil.move(image_file, dup_folder)\n",
    "\n",
    "    print(f\"Total unique images are {len(hash_dict)}\")"
   ]
  },
  {
   "cell_type": "code",
   "execution_count": 42,
   "metadata": {},
   "outputs": [
    {
     "name": "stdout",
     "output_type": "stream",
     "text": [
      "Duplicate found: ../California/Photos/160.jpg and ../California/Photos/161.jpg\n",
      "Duplicate found: ../California/Photos/602.jpg and ../California/Photos/604.jpg\n",
      "Duplicate found: ../California/Photos/603.jpg and ../California/Photos/604.jpg\n",
      "Duplicate found: ../California/Photos/365.jpg and ../California/Photos/366.jpg\n",
      "Duplicate found: ../California/Photos/576.jpg and ../California/Photos/577.jpg\n",
      "Duplicate found: ../California/Photos/589.jpg and ../California/Photos/588.jpg\n",
      "Duplicate found: ../California/Photos/600.jpg and ../California/Photos/601.jpg\n",
      "Duplicate found: ../California/Photos/473.jpg and ../California/Photos/472.jpg\n",
      "Duplicate found: ../California/Photos/501.jpg and ../California/Photos/502.jpg\n",
      "Duplicate found: ../California/Photos/475.jpg and ../California/Photos/474.jpg\n",
      "Duplicate found: ../California/Photos/478.jpg and ../California/Photos/474.jpg\n",
      "Duplicate found: ../California/Photos/530.jpg and ../California/Photos/529.jpg\n",
      "Duplicate found: ../California/Photos/618.jpg and ../California/Photos/617.jpg\n",
      "Duplicate found: ../California/Photos/592.jpg and ../California/Photos/593.jpg\n",
      "Duplicate found: ../California/Photos/169.jpg and ../California/Photos/170.jpg\n",
      "Duplicate found: ../California/Photos/569.jpg and ../California/Photos/571.jpg\n",
      "Duplicate found: ../California/Photos/583.jpg and ../California/Photos/582.jpg\n",
      "Duplicate found: ../California/Photos/594.jpg and ../California/Photos/593.jpg\n",
      "Total unique images are 683\n"
     ]
    }
   ],
   "source": [
    "# Usage\n",
    "source_folder = '../California/Photos'\n",
    "dest_folder_unique = '../unique'\n",
    "dest_folder_duplicates = '../dupes'\n",
    "\n",
    "find_duplicates(source_folder, dest_folder_duplicates)"
   ]
  }
 ],
 "metadata": {
  "language_info": {
   "name": "python"
  }
 },
 "nbformat": 4,
 "nbformat_minor": 2
}
