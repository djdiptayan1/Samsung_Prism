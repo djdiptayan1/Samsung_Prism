{
 "cells": [
  {
   "cell_type": "code",
   "execution_count": 1,
   "metadata": {},
   "outputs": [],
   "source": [
    "import cv2\n",
    "import imagehash\n",
    "from PIL import Image\n",
    "from pathlib import Path\n",
    "import matplotlib.pyplot as plt\n",
    "import numpy as np\n",
    "import random"
   ]
  },
  {
   "cell_type": "code",
   "execution_count": 2,
   "metadata": {},
   "outputs": [],
   "source": [
    "def preprocess_image(image_path):\n",
    "    # Read the image\n",
    "    img = cv2.imread(image_path)\n",
    "\n",
    "    # Resize the image\n",
    "    img = cv2.resize(img, (64, 64))\n",
    "\n",
    "    # Convert the image to grayscale\n",
    "    gray = cv2.cvtColor(img, cv2.COLOR_BGR2GRAY)\n",
    "    \n",
    "    # Apply a slight blur\n",
    "    blurred = cv2.GaussianBlur(gray, (5, 5), 0)\n",
    "\n",
    "    # Histogram equalization\n",
    "    equalized = cv2.equalizeHist(blurred)\n",
    "\n",
    "    # Normalize pixel values\n",
    "    normalized = equalized / 255.0\n",
    "\n",
    "    return normalized"
   ]
  },
  {
   "cell_type": "code",
   "execution_count": 3,
   "metadata": {},
   "outputs": [],
   "source": [
    "def dhash(image, hash_size=8):\n",
    "    # Resize the image based on hash size\n",
    "    image = cv2.resize(image, (hash_size + 1, hash_size))\n",
    "    diff = image[:, 1:] > image[:, :-1]\n",
    "    return sum([2 ** i for (i, v) in enumerate(diff.flatten()) if v])"
   ]
  },
  {
   "cell_type": "code",
   "execution_count": 4,
   "metadata": {},
   "outputs": [],
   "source": [
    "def find_duplicates_dhash(folder_path, threshold=10): # NEED TO EXPERIMENT WITH THE THRESHHOLD VALUE\n",
    "    hash_dict = {}\n",
    "    duplicate_groups = {}\n",
    "\n",
    "    for image_path in Path(folder_path).glob('*.*'):\n",
    "        if image_path.suffix.lower() in ['.jpg', '.jpeg', '.png']:\n",
    "            # Preprocess the image\n",
    "            processed_image = preprocess_image(str(image_path))\n",
    "\n",
    "            # Compute the dHash\n",
    "            hash_value = dhash(processed_image)\n",
    "\n",
    "            # Check for near-duplicates within a threshold\n",
    "            for existing_hash, existing_image_paths in hash_dict.items():\n",
    "                if np.abs(hash_value - existing_hash) < threshold:\n",
    "                    existing_image_paths.append(image_path)\n",
    "                    duplicate_groups[hash_value] = existing_image_paths\n",
    "\n",
    "            # Add the current image to the hash dictionary\n",
    "            hash_dict[hash_value] = [image_path]\n",
    "\n",
    "    return duplicate_groups"
   ]
  },
  {
   "cell_type": "code",
   "execution_count": 5,
   "metadata": {},
   "outputs": [],
   "source": [
    "def display_all_duplicate_images(duplicate_groups):\n",
    "    for hash_value, image_paths in duplicate_groups.items():\n",
    "        num_images = len(image_paths)\n",
    "\n",
    "        plt.figure(figsize=(5 * num_images, 5))\n",
    "        for i, image_path in enumerate(image_paths, 1):\n",
    "            img = cv2.imread(str(image_path))\n",
    "            img = cv2.cvtColor(img, cv2.COLOR_BGR2RGB)\n",
    "            plt.subplot(1, num_images, i)\n",
    "            plt.imshow(img)\n",
    "            plt.title(f'Image {i}: {image_path.name}')\n",
    "\n",
    "        plt.show()\n",
    "        \n",
    "    print(f'Found {len(duplicate_groups)} groups of duplicate images')"
   ]
  },
  {
   "cell_type": "code",
   "execution_count": 6,
   "metadata": {},
   "outputs": [
    {
     "name": "stdout",
     "output_type": "stream",
     "text": [
      "No duplicate images found.\n"
     ]
    }
   ],
   "source": [
    "if __name__ == \"__main__\":\n",
    "    folder_path = \"../California/Photos\"\n",
    "    duplicate_pairs = find_duplicates_dhash(folder_path)\n",
    "\n",
    "    if duplicate_pairs:\n",
    "        display_all_duplicate_images(duplicate_pairs)\n",
    "    else:\n",
    "        print(\"No duplicate images found.\")"
   ]
  }
 ],
 "metadata": {
  "kernelspec": {
   "display_name": "Python 3",
   "language": "python",
   "name": "python3"
  },
  "language_info": {
   "codemirror_mode": {
    "name": "ipython",
    "version": 3
   },
   "file_extension": ".py",
   "mimetype": "text/x-python",
   "name": "python",
   "nbconvert_exporter": "python",
   "pygments_lexer": "ipython3",
   "version": "3.11.4"
  }
 },
 "nbformat": 4,
 "nbformat_minor": 2
}
