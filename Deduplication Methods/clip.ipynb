{
 "cells": [
  {
   "cell_type": "code",
   "execution_count": null,
   "metadata": {},
   "outputs": [],
   "source": [
    "from transformers import CLIPProcessor, CLIPModel\n",
    "model = CLIPModel.from_pretrained(\"openai/clip-vit-base-patch32\")\n",
    "processor = CLIPProcessor.from_pretrained(\"openai/clip-vit-base-patch32\")"
   ]
  },
  {
   "cell_type": "code",
   "execution_count": null,
   "metadata": {},
   "outputs": [],
   "source": [
    "import torch\n",
    "import numpy as np\n",
    "from pathlib import Path\n",
    "from PIL import Image\n",
    "import tensorflow as tf\n",
    "\n",
    "demo_directory = Path(\"./California/Photos/\")\n",
    "images_to_paths = {image_path.stem: image_path for image_path in demo_directory.iterdir() if image_path.suffix.lower() in ['.jpg', '.jpeg', '.png', '.gif']}\n",
    "\n",
    "images = [np.array(Image.open(path)) for path in images_to_paths.values()]\n",
    "images = [torch.tensor(image, dtype=torch.float32) for image in images]\n",
    "\n",
    "images = [tf.constant(image.numpy(), dtype=tf.float32) for image in images]\n",
    "\n",
    "inputs = processor(images=images, return_tensors=\"pt\", padding=True)\n",
    "\n",
    "with torch.no_grad():\n",
    "    outputs = model.get_image_features(**inputs)\n",
    "\n",
    "images_to_embeddings = {image_id: tensor_embedding.detach().numpy() for image_id, tensor_embedding in zip(images_to_paths.keys(), outputs)}"
   ]
  },
  {
   "cell_type": "code",
   "execution_count": null,
   "metadata": {},
   "outputs": [],
   "source": [
    "import numpy as np\n",
    "from sklearn.cluster import DBSCAN\n",
    "from collections import defaultdict\n",
    "\n",
    "image_ids = list(images_to_embeddings.keys())\n",
    "embeddings = list(images_to_embeddings.values())\n",
    "\n",
    "clustering = DBSCAN(min_samples=2, eps=3).fit(np.stack(embeddings))\n",
    "\n",
    "image_id_communities = defaultdict(set)\n",
    "independent_image_ids = set()\n",
    "\n",
    "for image_id, cluster_idx in zip(image_ids, clustering.labels_):\n",
    "    cluster_idx = int(cluster_idx)\n",
    "    if cluster_idx == -1:\n",
    "        independent_image_ids.add(image_id)\n",
    "        continue\n",
    "\n",
    "    image_id_communities[cluster_idx].add(image_id)"
   ]
  },
  {
   "cell_type": "code",
   "execution_count": null,
   "metadata": {},
   "outputs": [],
   "source": [
    "len(independent_image_ids)\n",
    "\n",
    "image_id_communities"
   ]
  },
  {
   "cell_type": "code",
   "execution_count": null,
   "metadata": {},
   "outputs": [],
   "source": [
    "import shutil\n",
    "from pathlib import Path\n",
    "\n",
    "# Output folder for non-duplicate images\n",
    "output_folder = demo_directory / \"NoDuplicates\"\n",
    "output_folder.mkdir(exist_ok=True)\n",
    "\n",
    "# Mapping of cluster index to selected image ID\n",
    "selected_images = {}\n",
    "\n",
    "for cluster_idx, image_ids in image_id_communities.items():\n",
    "    if cluster_idx == -1:\n",
    "        continue  # Skip independent images\n",
    "\n",
    "    # Select one image from the cluster (you can choose based on some criteria)\n",
    "    selected_image_id = next(iter(image_ids))\n",
    "\n",
    "    # Copy the selected image to the output folder\n",
    "    shutil.copy(images_to_paths[selected_image_id], output_folder / f\"{selected_image_id}.jpg\")\n",
    "\n",
    "# Copy independent images to the output folder\n",
    "for image_id in independent_image_ids:\n",
    "    shutil.copy(images_to_paths[image_id], output_folder / f\"{image_id}.jpg\")\n",
    "\n",
    "print(f\"Total non-duplicate images: {len(selected_images)}\")\n",
    "print(f\"Output folder: {output_folder}\")"
   ]
  },
  {
   "cell_type": "code",
   "execution_count": null,
   "metadata": {},
   "outputs": [],
   "source": [
    "import matplotlib.pyplot as plt\n",
    "for image_id_community in image_id_communities.values():\n",
    "    for image_id in image_id_community:\n",
    "        plt.figure()\n",
    "        plt.imshow(Image.open(images_to_paths[image_id]))\n",
    "\n",
    "for image_id in independent_image_ids:\n",
    "    plt.figure()\n",
    "    plt.imshow(Image.open(images_to_paths[image_id]))"
   ]
  }
 ],
 "metadata": {
  "kernelspec": {
   "display_name": "Python 3",
   "language": "python",
   "name": "python3"
  },
  "language_info": {
   "codemirror_mode": {
    "name": "ipython",
    "version": 3
   },
   "file_extension": ".py",
   "mimetype": "text/x-python",
   "name": "python",
   "nbconvert_exporter": "python",
   "pygments_lexer": "ipython3",
   "version": "3.9.6"
  }
 },
 "nbformat": 4,
 "nbformat_minor": 2
}
