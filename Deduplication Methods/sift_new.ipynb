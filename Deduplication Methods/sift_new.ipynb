{
 "cells": [
  {
   "cell_type": "code",
   "execution_count": null,
   "metadata": {},
   "outputs": [],
   "source": [
    "import os\n",
    "import cv2\n",
    "import glob\n",
    "from PIL import Image\n",
    "import shutil\n",
    "import numpy as np\n",
    "import matplotlib.pyplot as plt\n",
    "import time"
   ]
  },
  {
   "cell_type": "code",
   "execution_count": null,
   "metadata": {},
   "outputs": [],
   "source": [
    "FEATURES_DISTANCE = 0.3\n",
    "MIN_MATCHES = 50\n",
    "SCALE_PERCENT = 60\n",
    "\n",
    "directory_personal = \"../My_Image\"\n",
    "directory_cal = \"../California/Photos\"\n",
    "destination_folder = \"../duplicates\""
   ]
  },
  {
   "cell_type": "code",
   "execution_count": null,
   "metadata": {},
   "outputs": [],
   "source": [
    "def collect_imgs(directory):\n",
    "    img_paths = glob.glob(os.path.join(directory, '*'))\n",
    "    img_paths = [path for path in img_paths if path.lower().endswith(('.png', '.jpg', '.jpeg', '.tiff', '.bmp', '.gif'))]\n",
    "    return img_paths"
   ]
  },
  {
   "cell_type": "code",
   "execution_count": null,
   "metadata": {},
   "outputs": [],
   "source": [
    "def load_and_resize_image(path):\n",
    "    img = Image.open(path)\n",
    "    width, height = img.size\n",
    "    img = img.resize((int(width * SCALE_PERCENT / 100), int(height * SCALE_PERCENT / 100)))\n",
    "    img = cv2.cvtColor(np.array(img), cv2.COLOR_RGB2GRAY)\n",
    "    return img"
   ]
  },
  {
   "cell_type": "code",
   "execution_count": null,
   "metadata": {},
   "outputs": [],
   "source": [
    "def detect_features(img_paths):\n",
    "    sift = cv2.SIFT_create()\n",
    "    imgs = []\n",
    "    for path in img_paths:\n",
    "        img = load_and_resize_image(path)\n",
    "        kp, des = sift.detectAndCompute(img, None)\n",
    "        imgs.append({\n",
    "            'f': img,\n",
    "            'p': path,\n",
    "            'kp': kp,\n",
    "            'des': des\n",
    "        })\n",
    "    return imgs"
   ]
  },
  {
   "cell_type": "code",
   "execution_count": null,
   "metadata": {},
   "outputs": [],
   "source": [
    "def similarity_check(imgs):\n",
    "    duplicates = set()\n",
    "    for i1 in range(len(imgs)):\n",
    "        for i2 in range(i1 + 1, len(imgs)):\n",
    "            FLANN_INDEX_KDTREE = 1\n",
    "            index_params = dict(\n",
    "                algorithm = FLANN_INDEX_KDTREE,\n",
    "                trees = 5\n",
    "            )\n",
    "            search_params = dict(checks=50)\n",
    "            flann = cv2.FlannBasedMatcher(index_params, search_params)\n",
    "            matches = flann.knnMatch(imgs[i1]['des'], imgs[i2]['des'], k=2)\n",
    "            matchesCount = 0\n",
    "            for i,(m,n) in enumerate(matches):\n",
    "                if m.distance < FEATURES_DISTANCE * n.distance:\n",
    "                    matchesCount += 1\n",
    "            if(matchesCount > MIN_MATCHES):\n",
    "                print('[DUPLICATE FOUND]', imgs[i1]['p'], imgs[i2]['p'])\n",
    "                # adds the lower resolution image to the deletion list\n",
    "                h1, w1 = imgs[i1]['f'].shape[:2]\n",
    "                h2, w2 = imgs[i2]['f'].shape[:2]\n",
    "                duplicates.add(imgs[i2 if h1*w1 > h2*w2 else i1]['p'])  # Use add instead of append\n",
    "    return duplicates\n"
   ]
  },
  {
   "cell_type": "code",
   "execution_count": null,
   "metadata": {},
   "outputs": [],
   "source": [
    "def copy_duplicates(duplicates, destination_folder):\n",
    "\tos.makedirs(destination_folder, exist_ok=True)\n",
    "\tfor path in duplicates:\n",
    "\t\tfilename = os.path.basename(path)\n",
    "\t\tdestination_path = os.path.join(destination_folder, filename)\n",
    "\t\tshutil.copy2(path, destination_path)\n",
    "\t\tprint('[COPIED]', path, 'to', destination_path)"
   ]
  },
  {
   "cell_type": "code",
   "execution_count": null,
   "metadata": {},
   "outputs": [],
   "source": [
    "def delete(duplicates):\n",
    "\tfor path in duplicates:\n",
    "\t\tos.remove(path)\n",
    "\t\tprint('[DELETED]', path)"
   ]
  },
  {
   "cell_type": "code",
   "execution_count": null,
   "metadata": {},
   "outputs": [],
   "source": [
    "def display_images(duplicates):\n",
    "    fig = plt.figure(figsize=(10, 10))\n",
    "    columns = 3\n",
    "    rows = len(duplicates) // columns + (len(duplicates) % columns > 0)\n",
    "    for i, img_path in enumerate(duplicates):\n",
    "        img = Image.open(img_path)\n",
    "        fig.add_subplot(rows, columns, i+1)\n",
    "        plt.imshow(img)\n",
    "        plt.axis('off')\n",
    "    plt.tight_layout()\n",
    "    plt.show()"
   ]
  },
  {
   "cell_type": "code",
   "execution_count": null,
   "metadata": {},
   "outputs": [],
   "source": [
    "def main():\n",
    "    start_time = time.time()\n",
    "\n",
    "    img_paths = collect_imgs(directory_cal)\n",
    "    imgs = detect_features(img_paths)\n",
    "    duplicates = similarity_check(imgs)\n",
    "    copy_duplicates(duplicates, destination_folder)\n",
    "\n",
    "    end_time = time.time()\n",
    "\n",
    "    print('Time taken (ms):', end_time - start_time)\n",
    "    # display_images(duplicates)"
   ]
  },
  {
   "cell_type": "code",
   "execution_count": 36,
   "metadata": {},
   "outputs": [
    {
     "name": "stdout",
     "output_type": "stream",
     "text": [
      "[DUPLICATE FOUND] ../California/Photos/471.jpg ../California/Photos/470.jpg\n",
      "[DUPLICATE FOUND] ../California/Photos/471.jpg ../California/Photos/467.jpg\n"
     ]
    },
    {
     "ename": "KeyboardInterrupt",
     "evalue": "",
     "output_type": "error",
     "traceback": [
      "\u001b[0;31m---------------------------------------------------------------------------\u001b[0m",
      "\u001b[0;31mKeyboardInterrupt\u001b[0m                         Traceback (most recent call last)",
      "Cell \u001b[0;32mIn[36], line 2\u001b[0m\n\u001b[1;32m      1\u001b[0m \u001b[38;5;28;01mif\u001b[39;00m \u001b[38;5;18m__name__\u001b[39m \u001b[38;5;241m==\u001b[39m \u001b[38;5;124m\"\u001b[39m\u001b[38;5;124m__main__\u001b[39m\u001b[38;5;124m\"\u001b[39m:\n\u001b[0;32m----> 2\u001b[0m     \u001b[43mmain\u001b[49m\u001b[43m(\u001b[49m\u001b[43m)\u001b[49m\n",
      "Cell \u001b[0;32mIn[35], line 6\u001b[0m, in \u001b[0;36mmain\u001b[0;34m()\u001b[0m\n\u001b[1;32m      4\u001b[0m img_paths \u001b[38;5;241m=\u001b[39m collect_imgs(directory_cal)\n\u001b[1;32m      5\u001b[0m imgs \u001b[38;5;241m=\u001b[39m detect_features(img_paths)\n\u001b[0;32m----> 6\u001b[0m duplicates \u001b[38;5;241m=\u001b[39m \u001b[43msimilarity_check\u001b[49m\u001b[43m(\u001b[49m\u001b[43mimgs\u001b[49m\u001b[43m)\u001b[49m\n\u001b[1;32m      7\u001b[0m copy_duplicates(duplicates, destination_folder)\n\u001b[1;32m      9\u001b[0m end_time \u001b[38;5;241m=\u001b[39m time\u001b[38;5;241m.\u001b[39mtime()\n",
      "Cell \u001b[0;32mIn[31], line 12\u001b[0m, in \u001b[0;36msimilarity_check\u001b[0;34m(imgs)\u001b[0m\n\u001b[1;32m     10\u001b[0m search_params \u001b[38;5;241m=\u001b[39m \u001b[38;5;28mdict\u001b[39m(checks\u001b[38;5;241m=\u001b[39m\u001b[38;5;241m50\u001b[39m)\n\u001b[1;32m     11\u001b[0m flann \u001b[38;5;241m=\u001b[39m cv2\u001b[38;5;241m.\u001b[39mFlannBasedMatcher(index_params, search_params)\n\u001b[0;32m---> 12\u001b[0m matches \u001b[38;5;241m=\u001b[39m \u001b[43mflann\u001b[49m\u001b[38;5;241;43m.\u001b[39;49m\u001b[43mknnMatch\u001b[49m\u001b[43m(\u001b[49m\u001b[43mimgs\u001b[49m\u001b[43m[\u001b[49m\u001b[43mi1\u001b[49m\u001b[43m]\u001b[49m\u001b[43m[\u001b[49m\u001b[38;5;124;43m'\u001b[39;49m\u001b[38;5;124;43mdes\u001b[39;49m\u001b[38;5;124;43m'\u001b[39;49m\u001b[43m]\u001b[49m\u001b[43m,\u001b[49m\u001b[43m \u001b[49m\u001b[43mimgs\u001b[49m\u001b[43m[\u001b[49m\u001b[43mi2\u001b[49m\u001b[43m]\u001b[49m\u001b[43m[\u001b[49m\u001b[38;5;124;43m'\u001b[39;49m\u001b[38;5;124;43mdes\u001b[39;49m\u001b[38;5;124;43m'\u001b[39;49m\u001b[43m]\u001b[49m\u001b[43m,\u001b[49m\u001b[43m \u001b[49m\u001b[43mk\u001b[49m\u001b[38;5;241;43m=\u001b[39;49m\u001b[38;5;241;43m2\u001b[39;49m\u001b[43m)\u001b[49m\n\u001b[1;32m     13\u001b[0m matchesCount \u001b[38;5;241m=\u001b[39m \u001b[38;5;241m0\u001b[39m\n\u001b[1;32m     14\u001b[0m \u001b[38;5;28;01mfor\u001b[39;00m i,(m,n) \u001b[38;5;129;01min\u001b[39;00m \u001b[38;5;28menumerate\u001b[39m(matches):\n",
      "\u001b[0;31mKeyboardInterrupt\u001b[0m: "
     ]
    }
   ],
   "source": [
    "if __name__ == \"__main__\":\n",
    "    main()"
   ]
  }
 ],
 "metadata": {
  "kernelspec": {
   "display_name": "Python 3",
   "language": "python",
   "name": "python3"
  },
  "language_info": {
   "codemirror_mode": {
    "name": "ipython",
    "version": 3
   },
   "file_extension": ".py",
   "mimetype": "text/x-python",
   "name": "python",
   "nbconvert_exporter": "python",
   "pygments_lexer": "ipython3",
   "version": "3.11.4"
  }
 },
 "nbformat": 4,
 "nbformat_minor": 2
}
