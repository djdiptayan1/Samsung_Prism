{
 "cells": [
  {
   "cell_type": "code",
   "execution_count": null,
   "metadata": {},
   "outputs": [],
   "source": [
    "import cv2\n",
    "import numpy as np\n",
    "import os\n",
    "import matplotlib.pyplot as plt\n",
    "import hashlib"
   ]
  },
  {
   "cell_type": "code",
   "execution_count": null,
   "metadata": {},
   "outputs": [],
   "source": [
    "# Define the directory containing your images\n",
    "images_directory = \"../My_Image/\""
   ]
  },
  {
   "cell_type": "code",
   "execution_count": null,
   "metadata": {},
   "outputs": [],
   "source": [
    "def preprocess_image(image_path):\n",
    "    # Read the image\n",
    "    img = cv2.imread(image_path)\n",
    "\n",
    "    # Resize the image\n",
    "    img = cv2.resize(img, (64, 64))\n",
    "\n",
    "    # Convert the image to grayscale\n",
    "    gray = cv2.cvtColor(img, cv2.COLOR_BGR2GRAY)\n",
    "    \n",
    "    # Apply a slight blur\n",
    "    blurred = cv2.GaussianBlur(gray, (5, 5), 0)\n",
    "\n",
    "    # Histogram equalization\n",
    "    equalized = cv2.equalizeHist(blurred)\n",
    "\n",
    "    # Normalize pixel values\n",
    "    normalized = equalized / 255.0\n",
    "\n",
    "    return normalized"
   ]
  },
  {
   "cell_type": "code",
   "execution_count": null,
   "metadata": {},
   "outputs": [],
   "source": [
    "from hashlib import md5\n",
    "def get_hash(image):\n",
    "    image = preprocess_image(image)\n",
    "    with open(image, 'rb') as file: # open the file for reading in binary mode\n",
    "        return hashlib.sha256(file.read()).hexdigest()"
   ]
  },
  {
   "cell_type": "code",
   "execution_count": null,
   "metadata": {},
   "outputs": [],
   "source": [
    "duplicates = []\n",
    "hash_keys = dict()\n",
    "for index, filename in enumerate(os.listdir(images_directory)):\n",
    "    if os.path.isfile(os.path.join(images_directory,filename)):\n",
    "        with open(os.path.join(images_directory,filename), 'rb') as file:\n",
    "            filehash = hashlib.sha256(file.read()).hexdigest()\n",
    "        if filehash not in hash_keys:\n",
    "            hash_keys[filehash] = index\n",
    "        else:\n",
    "            duplicates.append((index,hash_keys[filehash]))"
   ]
  },
  {
   "cell_type": "code",
   "execution_count": null,
   "metadata": {},
   "outputs": [],
   "source": [
    "duplicates"
   ]
  },
  {
   "cell_type": "code",
   "execution_count": null,
   "metadata": {},
   "outputs": [],
   "source": [
    "for file_indexes in duplicates[:1]:\n",
    "    try:\n",
    "        plt.subplot(121),plt.imshow(cv2.imread(os.path.join(images_directory,os.listdir(images_directory)[file_indexes[1]])))\n",
    "        plt.title(os.listdir(images_directory)[file_indexes[1]]), plt.xticks([]), plt.yticks([])\n",
    "        plt.subplot(122),plt.imshow(cv2.imread(os.path.join(images_directory,os.listdir(images_directory)[file_indexes[0]])))\n",
    "        plt.title(os.listdir(images_directory)[file_indexes[0]]), plt.xticks([]), plt.yticks([])\n",
    "        plt.show()\n",
    "    except OSError as e:\n",
    "        continue"
   ]
  }
 ],
 "metadata": {
  "kernelspec": {
   "display_name": "Python 3",
   "language": "python",
   "name": "python3"
  },
  "language_info": {
   "codemirror_mode": {
    "name": "ipython",
    "version": 3
   },
   "file_extension": ".py",
   "mimetype": "text/x-python",
   "name": "python",
   "nbconvert_exporter": "python",
   "pygments_lexer": "ipython3",
   "version": "3.11.4"
  }
 },
 "nbformat": 4,
 "nbformat_minor": 2
}
